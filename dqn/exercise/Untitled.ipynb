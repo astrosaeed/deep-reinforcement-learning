{
 "cells": [
  {
   "cell_type": "code",
   "execution_count": 4,
   "metadata": {},
   "outputs": [
    {
     "data": {
      "text/plain": [
       "['/home/saeid/deep-reinforcement-learning/dqn/exercise',\n",
       " '/home/saeid/anaconda3/lib/python37.zip',\n",
       " '/home/saeid/anaconda3/lib/python3.7',\n",
       " '/home/saeid/anaconda3/lib/python3.7/lib-dynload',\n",
       " '',\n",
       " '/home/saeid/anaconda3/lib/python3.7/site-packages',\n",
       " '/home/saeid/anaconda3/lib/python3.7/site-packages/IPython/extensions',\n",
       " '/home/saeid/.ipython']"
      ]
     },
     "execution_count": 4,
     "metadata": {},
     "output_type": "execute_result"
    }
   ],
   "source": [
    "import sys\n",
    "sys.executable\n",
    "sys.path"
   ]
  },
  {
   "cell_type": "code",
   "execution_count": null,
   "metadata": {},
   "outputs": [],
   "source": []
  }
 ],
 "metadata": {
  "kernelspec": {
   "display_name": "Python 3",
   "language": "python",
   "name": "python3"
  },
  "language_info": {
   "codemirror_mode": {
    "name": "ipython",
    "version": 3
   },
   "file_extension": ".py",
   "mimetype": "text/x-python",
   "name": "python",
   "nbconvert_exporter": "python",
   "pygments_lexer": "ipython3",
   "version": "3.7.3"
  }
 },
 "nbformat": 4,
 "nbformat_minor": 4
}
